{
  "nbformat": 4,
  "nbformat_minor": 0,
  "metadata": {
    "colab": {
      "name": "Assignment 2",
      "provenance": [],
      "collapsed_sections": [],
      "authorship_tag": "ABX9TyPt3wcxUR7VIzaUwNUKrDCm",
      "include_colab_link": true
    },
    "kernelspec": {
      "name": "python3",
      "display_name": "Python 3"
    }
  },
  "cells": [
    {
      "cell_type": "markdown",
      "metadata": {
        "id": "view-in-github",
        "colab_type": "text"
      },
      "source": [
        "<a href=\"https://colab.research.google.com/github/899-12/Assignment/blob/main/Assignment_2.ipynb\" target=\"_parent\"><img src=\"https://colab.research.google.com/assets/colab-badge.svg\" alt=\"Open In Colab\"/></a>"
      ]
    },
    {
      "cell_type": "code",
      "metadata": {
        "colab": {
          "base_uri": "https://localhost:8080/"
        },
        "id": "C5Zt7ioeqdX8",
        "outputId": "eac01a16-cfa8-4a5a-db70-123431ac37d2"
      },
      "source": [
        "username ='Aarsha'\n",
        "password ='6789'\n",
        "OTP ='1234'\n",
        "name =input(\"Enter the username\")\n",
        "userPassword =input(\"Enter the password\")\n",
        "userOTP =input(\"Generate the OTP \")\n",
        "\n",
        "if name==username :\n",
        "  if userPassword==password :\n",
        "     if userOTP==OTP :\n",
        "       print(\"Welcome \"+username)\n",
        "     else :\n",
        "       print(\"Incorrect Password\")\n",
        "  else :\n",
        "   print(\"This user is not in our database\")"
      ],
      "execution_count": null,
      "outputs": [
        {
          "output_type": "stream",
          "text": [
            "Enter the usernameAarsha\n",
            "Enter the password6789\n",
            "Generate the OTP 1234\n",
            "Welcome Aarsha\n"
          ],
          "name": "stdout"
        }
      ]
    },
    {
      "cell_type": "code",
      "metadata": {
        "colab": {
          "base_uri": "https://localhost:8080/"
        },
        "id": "qXPYma81wXfZ",
        "outputId": "c04bd3a3-e7dc-4b1e-d4ea-30190548894e"
      },
      "source": [
        "for evennumber in range(0,20,2) :\n",
        "  print(evennumber)"
      ],
      "execution_count": null,
      "outputs": [
        {
          "output_type": "stream",
          "text": [
            "0\n",
            "2\n",
            "4\n",
            "6\n",
            "8\n",
            "10\n",
            "12\n",
            "14\n",
            "16\n",
            "18\n"
          ],
          "name": "stdout"
        }
      ]
    },
    {
      "cell_type": "code",
      "metadata": {
        "id": "GsQ9Aud1vCRW",
        "colab": {
          "base_uri": "https://localhost:8080/"
        },
        "outputId": "2b43e667-f091-4151-d63c-21da7f25d415"
      },
      "source": [
        "marks =int(input(\"Enter the mark\"))\n",
        "if marks > 92 :\n",
        "  print(\"Grade is A\")\n",
        "if marks < 80 :\n",
        "  print(\"Grade is B\")\n",
        "\n",
        "if :\n",
        "  print(\"Failed!\")\n",
        "  "
      ],
      "execution_count": null,
      "outputs": [
        {
          "output_type": "stream",
          "text": [
            "Enter the mark96\n",
            "Grade is A\n"
          ],
          "name": "stdout"
        }
      ]
    },
    {
      "cell_type": "code",
      "metadata": {
        "id": "uU9Xi7MOFoG_"
      },
      "source": [
        "studentsMarks ={\n",
        "    \"ravi\" :95,\n",
        "    \"raja\" :54,\n",
        "    \"raman\" :87,\n",
        "}"
      ],
      "execution_count": null,
      "outputs": []
    },
    {
      "cell_type": "code",
      "metadata": {
        "id": "syIi_CC2GgaY"
      },
      "source": [
        "studentsMarks.keys()\n",
        "dict_keys{['ravi','raja','raman']}\n"
      ],
      "execution_count": null,
      "outputs": []
    },
    {
      "cell_type": "code",
      "metadata": {
        "colab": {
          "base_uri": "https://localhost:8080/"
        },
        "id": "vlI8xCzkGqwB",
        "outputId": "ee3ce4bb-14c0-4ced-f927-83169b67283a"
      },
      "source": [
        "for keys in studentsMarks.keys():\n",
        "  #print(keys)\n",
        "  #print(studentsMarks[keys])\n",
        "  #Passcriteria is 60\n",
        "  if studentsMarks[keys]<60 :\n",
        "    print(keys+\" has failed\")"
      ],
      "execution_count": null,
      "outputs": [
        {
          "output_type": "stream",
          "text": [
            "raja has failed\n"
          ],
          "name": "stdout"
        }
      ]
    }
  ]
}