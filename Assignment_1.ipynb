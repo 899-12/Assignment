{
  "nbformat": 4,
  "nbformat_minor": 0,
  "metadata": {
    "colab": {
      "name": "Assignment 1",
      "provenance": [],
      "collapsed_sections": [],
      "authorship_tag": "ABX9TyPQ63hvUWdqt7FQczqZYwDH",
      "include_colab_link": true
    },
    "kernelspec": {
      "name": "python3",
      "display_name": "Python 3"
    }
  },
  "cells": [
    {
      "cell_type": "markdown",
      "metadata": {
        "id": "view-in-github",
        "colab_type": "text"
      },
      "source": [
        "<a href=\"https://colab.research.google.com/github/899-12/Assignment/blob/main/Assignment_1.ipynb\" target=\"_parent\"><img src=\"https://colab.research.google.com/assets/colab-badge.svg\" alt=\"Open In Colab\"/></a>"
      ]
    },
    {
      "cell_type": "code",
      "metadata": {
        "colab": {
          "base_uri": "https://localhost:8080/"
        },
        "id": "1XtMUfo22lkW",
        "outputId": "8da2836b-d39b-47f2-9d56-fe16df87c0df"
      },
      "source": [
        "firstNumber=int(input(\"Enter a number\"))\n",
        "secondNumber=int(input(\"Enter a number\"))\n",
        " \n",
        "print(firstNumber*6)\n",
        "print(secondNumber+4)\n",
        "print(firstNumber-7)\n",
        "print(secondNumber/8)"
      ],
      "execution_count": null,
      "outputs": [
        {
          "output_type": "stream",
          "text": [
            "Enter a number5\n",
            "Enter a number6\n",
            "30\n",
            "10\n",
            "-2\n",
            "0.75\n"
          ],
          "name": "stdout"
        }
      ]
    }
  ]
}